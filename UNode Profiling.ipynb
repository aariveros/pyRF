{
 "metadata": {
  "name": ""
 },
 "nbformat": 3,
 "nbformat_minor": 0,
 "worksheets": [
  {
   "cells": [
    {
     "cell_type": "code",
     "collapsed": false,
     "input": [
      "#Importamos dependencias\n",
      "from node import *\n",
      "from UNode import *\n",
      "import pandas as pd\n",
      "%load_ext line_profiler"
     ],
     "language": "python",
     "metadata": {},
     "outputs": [
      {
       "output_type": "stream",
       "stream": "stderr",
       "text": [
        "/Users/npcastro/anaconda/lib/python2.7/site-packages/pytz/__init__.py:29: UserWarning: Module argparse was already imported from /Users/npcastro/anaconda/python.app/Contents/lib/python2.7/argparse.pyc, but /Users/npcastro/anaconda/lib/python2.7/site-packages is being added to sys.path\n",
        "  from pkg_resources import resource_stream\n"
       ]
      }
     ],
     "prompt_number": 1
    },
    {
     "cell_type": "code",
     "collapsed": false,
     "input": [
      "#Leemos los datos\n",
      "path = \"sets/macho 20.csv\"\n",
      "data = pd.read_csv(path)"
     ],
     "language": "python",
     "metadata": {},
     "outputs": [],
     "prompt_number": 2
    },
    {
     "cell_type": "code",
     "collapsed": false,
     "input": [
      "nodo = Node(data, level = 10)\n",
      "unodo = UNode(data, level = 10) # Con 10 evito que el nodo crezca\n",
      "\n",
      "f = unodo.filterfeatures()[0]\t\n",
      "p = unodo.get_pivotes(data[f], 'exact')\n",
      "\n",
      "menores = nodo.get_menores(f, p[100])\n",
      "mayores = nodo.get_mayores(f, p[100])\n",
      "\n",
      "lista = []"
     ],
     "language": "python",
     "metadata": {},
     "outputs": [],
     "prompt_number": 4
    },
    {
     "cell_type": "code",
     "collapsed": false,
     "input": [
      "lprun -f unodo.split"
     ],
     "language": "python",
     "metadata": {},
     "outputs": [
      {
       "output_type": "stream",
       "stream": "stdout",
       "text": [
        "\n"
       ]
      }
     ],
     "prompt_number": 6
    },
    {
     "cell_type": "markdown",
     "metadata": {},
     "source": [
      "get_mayores"
     ]
    },
    {
     "cell_type": "markdown",
     "metadata": {},
     "source": [
      "get_menores"
     ]
    },
    {
     "cell_type": "markdown",
     "metadata": {},
     "source": [
      "get_weight"
     ]
    },
    {
     "cell_type": "code",
     "collapsed": false,
     "input": [
      "%lprun -f unodo.get_weight unodo.get_weight(data.iloc[100], lista, 0.12, f.rstrip('.mean'), 'mayor')"
     ],
     "language": "python",
     "metadata": {},
     "outputs": [
      {
       "output_type": "stream",
       "stream": "stdout",
       "text": [
        "\n"
       ]
      }
     ],
     "prompt_number": 10
    },
    {
     "cell_type": "code",
     "collapsed": false,
     "input": [
      "%timeit unodo.get_weight(data.iloc[100], lista, p[900], f.rstrip('.mean'), 'mayor')"
     ],
     "language": "python",
     "metadata": {},
     "outputs": [
      {
       "output_type": "stream",
       "stream": "stdout",
       "text": [
        "1000 loops, best of 3: 299 \u00b5s per loop\n"
       ]
      }
     ],
     "prompt_number": 13
    },
    {
     "cell_type": "markdown",
     "metadata": {},
     "source": [
      "gain"
     ]
    },
    {
     "cell_type": "markdown",
     "metadata": {},
     "source": [
      "entropy"
     ]
    }
   ],
   "metadata": {}
  }
 ]
}